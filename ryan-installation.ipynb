{
 "cells": [
  {
   "cell_type": "markdown",
   "id": "58c2171b",
   "metadata": {},
   "source": [
    "# Installation\n",
    "To get started with this lesson you first need to install Jupyter Notebook and tensorflow\n",
    "\n",
    "First install Python from [https://www.python.org/downloads/]()\n",
    "Then install Tensorflow and Jupyter Notebooks"
   ]
  }
 ],
 "metadata": {
  "kernelspec": {
   "display_name": "Python 3 (ipykernel)",
   "language": "python",
   "name": "python3"
  },
  "language_info": {
   "codemirror_mode": {
    "name": "ipython",
    "version": 3
   },
   "file_extension": ".py",
   "mimetype": "text/x-python",
   "name": "python",
   "nbconvert_exporter": "python",
   "pygments_lexer": "ipython3",
   "version": "3.9.6"
  }
 },
 "nbformat": 4,
 "nbformat_minor": 5
}