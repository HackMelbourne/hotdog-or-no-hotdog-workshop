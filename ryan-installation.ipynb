{
 "cells": [
  {
   "attachments": {},
   "cell_type": "markdown",
   "id": "58c2171b",
   "metadata": {},
   "source": [
    "# Installation\n",
    "To get started with this lesson you first need to install Jupyter Notebook and tensorflow\n",
    "\n",
    "First install Python from [https://www.python.org/downloads/]()\n",
    "\n",
    "Then install Tensorflow and Jupyter Notebooks.\n",
    "\n",
    "`pip install tensorflow jupyter`\n",
    "\n",
    "In a new folder, open a terminal with SHIFT+Right-click.\n",
    "\n",
    "Clone the repository with `git clone https://github.com/HackMelbourne/hotdog-or-not-hotdog-workshop.git`\n",
    "\n",
    "Then run `jupyter-notebook`."
   ]
  }
 ],
 "metadata": {
  "kernelspec": {
   "display_name": "Python 3 (ipykernel)",
   "language": "python",
   "name": "python3"
  },
  "language_info": {
   "codemirror_mode": {
    "name": "ipython",
    "version": 3
   },
   "file_extension": ".py",
   "mimetype": "text/x-python",
   "name": "python",
   "nbconvert_exporter": "python",
   "pygments_lexer": "ipython3",
   "version": "3.9.6"
  }
 },
 "nbformat": 4,
 "nbformat_minor": 5
}